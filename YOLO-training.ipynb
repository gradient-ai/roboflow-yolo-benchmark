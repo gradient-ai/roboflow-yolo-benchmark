{
 "cells": [
  {
   "cell_type": "code",
   "execution_count": null,
   "id": "ddbced79-94cd-4d74-9a7b-b7cac47075ca",
   "metadata": {
    "tags": []
   },
   "outputs": [],
   "source": [
    "# Install Robolow\n",
    "!pip install roboflow -q\n",
    "from roboflow import Roboflow"
   ]
  },
  {
   "cell_type": "markdown",
   "id": "41fc309f-6634-42cf-bb3e-639d26c2a652",
   "metadata": {
    "tags": []
   },
   "source": [
    "## MT-YOLOv6"
   ]
  },
  {
   "cell_type": "code",
   "execution_count": null,
   "id": "16ae7601-b08e-4c74-94f1-e20a90df6a2b",
   "metadata": {
    "scrolled": true,
    "tags": []
   },
   "outputs": [],
   "source": [
    "# Download MT-YOLOv6 repository and install requirements\n",
    "%cd /notebooks\n",
    "!git clone https://github.com/meituan/YOLOv6\n",
    "%cd /notebooks/YOLOv6\n",
    "!pip install -r requirements.txt\n",
    "\n",
    "##If running on an Ampere series GPU (e.g. A4000, A6000), uncomment and run the below code to upgrade PyTorch version\n",
    "# !pip3 install -U torch torchvision torchaudio --extra-index-url https://download.pytorch.org/whl/cu116"
   ]
  },
  {
   "cell_type": "markdown",
   "id": "e6c6a967-d0e2-4fdf-925a-eb9eea2f7895",
   "metadata": {},
   "source": [
    "### Aerial Sheep Dataset"
   ]
  },
  {
   "cell_type": "code",
   "execution_count": null,
   "id": "95581023-7faf-44ac-8230-a69a68d6427e",
   "metadata": {
    "tags": []
   },
   "outputs": [],
   "source": [
    "rf = Roboflow(api_key=\"<your-api-key>\")\n",
    "project = rf.workspace(\"riis\").project(\"aerial-sheep\")\n",
    "dataset = project.version(1).download(\"mt-yolov6\")"
   ]
  },
  {
   "cell_type": "code",
   "execution_count": null,
   "id": "15fa943c-d64a-4b8b-9ee8-c48db5e79aaf",
   "metadata": {
    "tags": []
   },
   "outputs": [],
   "source": [
    "# run this cell to begin training\n",
    "!python tools/train.py --batch 32 --conf configs/yolov6s.py --epochs 5 --img-size 416 --data {dataset.location}/data.yaml --device 0 "
   ]
  },
  {
   "cell_type": "code",
   "execution_count": null,
   "id": "4527fdce-3f16-4f81-abe8-af9c91019af6",
   "metadata": {},
   "outputs": [],
   "source": [
    "# Run evaluation\n",
    "!python tools/eval.py --data {dataset.location}/data.yaml --img-size 416 --weights runs/train/exp/weights/best_ckpt.pt --device 0 "
   ]
  },
  {
   "cell_type": "markdown",
   "id": "48b50538-4ded-49bc-a4b7-caa746bda6aa",
   "metadata": {},
   "source": [
    "### Clash of Clans"
   ]
  },
  {
   "cell_type": "code",
   "execution_count": null,
   "id": "1cdfea83-ba3d-48d9-aa44-3732ee200dc7",
   "metadata": {
    "tags": []
   },
   "outputs": [],
   "source": [
    "rf = Roboflow(api_key=\"<your-api-key>\")\n",
    "project = rf.workspace(\"find-this-base\").project(\"clash-of-clans-vop4y\")\n",
    "dataset = project.version(5).download(\"mt-yolov6\")"
   ]
  },
  {
   "cell_type": "code",
   "execution_count": null,
   "id": "bdf7feb6-13bd-483a-8e3f-bf57e597ea2d",
   "metadata": {
    "tags": []
   },
   "outputs": [],
   "source": [
    "# run this cell to begin training\n",
    "!python tools/train.py --batch 32 --conf configs/yolov6s.py --epochs 5 --img-size 416 --data {dataset.location}/data.yaml --device 0 "
   ]
  },
  {
   "cell_type": "code",
   "execution_count": null,
   "id": "ca61d110-e731-4dde-afc1-31ad36450d72",
   "metadata": {},
   "outputs": [],
   "source": [
    "# Run evaluation\n",
    "!python tools/eval.py --data {dataset.location}/data.yaml --img-size 416 --weights runs/train/exp/weights/best_ckpt.pt --device 0 "
   ]
  },
  {
   "cell_type": "markdown",
   "id": "71bf7cc5-368b-4021-a5fb-8b51645ea461",
   "metadata": {},
   "source": [
    "## YOLOv7"
   ]
  },
  {
   "cell_type": "code",
   "execution_count": null,
   "id": "0049ab54-c113-4aea-83a5-544b8bba6a03",
   "metadata": {
    "tags": []
   },
   "outputs": [],
   "source": [
    "# Download YOLOv7 repository and install requirements\n",
    "%cd /notebooks\n",
    "# !git clone https://github.com/WongKinYiu/yolov7\n",
    "%cd /notebooks/yolov7\n",
    "!pip install -r requirements.txt\n",
    "\n",
    "##If running on an Ampere series GPU (e.g. A4000, A6000), uncomment and run the below code to upgrade PyTorch version\n",
    "# !pip3 install -U torch torchvision torchaudio --extra-index-url https://download.pytorch.org/whl/cu116"
   ]
  },
  {
   "cell_type": "code",
   "execution_count": null,
   "id": "72eb8dfb-5b20-4396-b88d-0290f497b84b",
   "metadata": {},
   "outputs": [],
   "source": [
    "# download COCO starting checkpoint\n",
    "%cd /notebooks/yolov7\n",
    "!wget \"https://github.com/WongKinYiu/yolov7/releases/download/v0.1/yolov7.pt\""
   ]
  },
  {
   "cell_type": "markdown",
   "id": "387cafb8-3fdc-4077-9a0d-c4e53ca11285",
   "metadata": {},
   "source": [
    "### Aerial Sheep Dataset"
   ]
  },
  {
   "cell_type": "code",
   "execution_count": null,
   "id": "c43fc5d1-6e72-4296-90d6-f75eba09c998",
   "metadata": {},
   "outputs": [],
   "source": [
    "rf = Roboflow(api_key=\"<your-api-key>\")\n",
    "project = rf.workspace(\"riis\").project(\"aerial-sheep\")\n",
    "dataset = project.version(1).download(\"mt-yolov6\")"
   ]
  },
  {
   "cell_type": "code",
   "execution_count": null,
   "id": "959088a4-fc99-4f7a-9a30-6e6ce96f47be",
   "metadata": {
    "tags": []
   },
   "outputs": [],
   "source": [
    "# run this cell to begin training\n",
    "%cd /notebooks/yolov7\n",
    "!python train.py --batch 16 --cfg cfg/training/yolov7.yaml --epochs 5 --data {dataset.location}/data.yaml --weights 'yolov7.pt' --device 0 "
   ]
  },
  {
   "cell_type": "code",
   "execution_count": null,
   "id": "3eef0706-0984-4071-8ee3-a1637fb2f67a",
   "metadata": {},
   "outputs": [],
   "source": [
    "# Run evaluation\n",
    "!python detect.py --weights runs/train/exp/weights/best.pt --conf 0.1 --source {dataset.location}/test/images"
   ]
  },
  {
   "cell_type": "markdown",
   "id": "58f0778b-1ff0-4640-bfd2-ad2316a40f26",
   "metadata": {},
   "source": [
    "### Clash of Clans"
   ]
  },
  {
   "cell_type": "code",
   "execution_count": null,
   "id": "daade886-8fda-4f9f-bd6a-c4d7f66154d2",
   "metadata": {
    "tags": []
   },
   "outputs": [],
   "source": [
    "rf = Roboflow(api_key=\"<your-api-key>\")\n",
    "project = rf.workspace(\"find-this-base\").project(\"clash-of-clans-vop4y\")\n",
    "dataset = project.version(5).download('mt-yolov6')"
   ]
  },
  {
   "cell_type": "code",
   "execution_count": null,
   "id": "d57fe6f5-d7bd-4d8d-acd2-797ae58aca75",
   "metadata": {
    "tags": []
   },
   "outputs": [],
   "source": [
    "# run this cell to begin training\n",
    "%cd /notebooks/yolov7\n",
    "!python train.py --batch 16 --cfg cfg/training/yolov7.yaml --epochs 5 --data {dataset.location}/data.yaml --weights 'yolov7.pt' --device 0 "
   ]
  },
  {
   "cell_type": "code",
   "execution_count": null,
   "id": "0ae9e543-78ea-4a99-8dcf-e1e132125f35",
   "metadata": {},
   "outputs": [],
   "source": [
    "# Run evaluation\n",
    "!python detect.py --weights /notebooks/yolov7/runs/train/exp/weights/best.pt --conf 0.1 --source {dataset.location}/test/images"
   ]
  },
  {
   "cell_type": "code",
   "execution_count": null,
   "id": "23cac024-c24e-49ea-894f-a12fef2bb021",
   "metadata": {},
   "outputs": [],
   "source": []
  }
 ],
 "metadata": {
  "kernelspec": {
   "display_name": "Python 3 (ipykernel)",
   "language": "python",
   "name": "python3"
  },
  "language_info": {
   "codemirror_mode": {
    "name": "ipython",
    "version": 3
   },
   "file_extension": ".py",
   "mimetype": "text/x-python",
   "name": "python",
   "nbconvert_exporter": "python",
   "pygments_lexer": "ipython3",
   "version": "3.9.13"
  }
 },
 "nbformat": 4,
 "nbformat_minor": 5
}
